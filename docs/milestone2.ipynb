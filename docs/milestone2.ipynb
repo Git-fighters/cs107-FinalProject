{
 "cells": [
  {
   "cell_type": "markdown",
   "metadata": {
    "cell_id": "00000-6d41e4a7-e220-4059-a729-12f22c9fef74",
    "deepnote_cell_type": "markdown"
   },
   "source": [
    "### Milestone 3\n",
    "## Git Fighters\n",
    "\n",
    "## 1 Introduction\n",
    "This project aims to enable automatic differentiation with Python. Automatic differentiation (AD) is a technique to find the derivative of a function computationally. Unlike some other techniques, automatic differentiation evaluates derivatives to machine precision, and it is less costly than symbolic differentiation. Differentiation is an important part of mathematical analysis, and differentiation is frequently used in machine learning, numerical analysis, economic optimization problems and more. This package is hosted on Github. \n",
    "\n",
    "## 2 Background\n",
    "Enabling automatic differentiation involves the several mathematical concepts and techniques. Here's a brief overview: \n",
    "\n",
    "### 2.1 Differentiation\n",
    "The derivative of a function $y = f(x)$ at the point $P = (x_1, f(x_1))$ is the slope of the tangent line at that point and can be written as:\n",
    "\n",
    "$f'(x_1) = lim_{\\Delta{x} \\to 0} \\frac{f(x_1 + \\Delta{x}) - f(x_1)}{\\Delta{x}}$\n",
    "\n",
    "Only if this limit exists is the function $y = f(x)$ is differentiable at point $x_1$.\n",
    "\n",
    "#### 2.1.1 Rules of Differentiation\n",
    "Multiple rules apply to differentiation:\n",
    "\n",
    "Rule 1: Derivative of a constant function\n",
    "\n",
    "If $f(x) = c$, with c constant, then $f'(x) = 0$.\n",
    "\n",
    "Rule 2: Derivative of a linear function\n",
    "\n",
    "If $f(x) = mx + b$, with m and b constants, then $f'(x) = m$.\n",
    "\n",
    "Rule 3: Derivative of a power function\n",
    "\n",
    "If $f(x) = x^{n}$, then $f'(x) = nx^{n-1}$.\n",
    "\n",
    "Rule 4: Derivative of the constant multiple of a function\n",
    "\n",
    "If $g(x) = cf(x)$, with c constant, then $g'(x) = cf'(x)$.\n",
    "\n",
    "Rule 5: Derivative of the sum or difference of a pair of functions\n",
    "\n",
    "If $h(x) = g(x) + f(x)$, then $h'(x) = g'(x) + f'(x)$, while if $h(x) = g(x) - f(x)$, then $h'(x) = g'(x) - f'(x)$.\n",
    "\n",
    "Rule 6: Derivative of the sum of an arbitrary but finite number of functions\n",
    "\n",
    "If $h(x) = \\sum_{i=1}^{n} g_i(x)$, then $h'(x) = \\sum_{i=1}^{n} g'_i(x)$.\n",
    "\n",
    "Rule 7: Derivative of the product of two functions\n",
    "\n",
    "If $h(x) = f(x)g(x)$, then $h'(x) = f'(x)g(x) + f(x)g'(x)$.\n",
    "\n",
    "Rule 8: Derivative of the quotient of two functions\n",
    "\n",
    "If $h(x) = \\frac{f(x)}{g(x)}$, g(x) ≠ 0, then $h'(x) = \\frac{f'(x)g(x) - f(x)g'(x)}{[g(x)]^{2}}$.\n",
    "\n",
    "Rule 9: Derivative of a function of a function (chain rule)\n",
    "\n",
    "If $y = f(u)$ and $u = g(x)$ so that $y = f(g(x)) = h(x)$, then $h'(x) = f'(u)g'(x)$ or\n",
    "\n",
    "$\\frac{dy}{dx} = \\frac{dy}{du}\\frac{du}{dx}$.\n",
    "\n",
    "Rule 10: Derivative of the inverse of a function\n",
    "\n",
    "If $y = f(x)$ has the inverse function $x = g(x)$, that is, if $g(y) = f^{-1}(y)$ and f'(x) ≠ 0, then\n",
    "\n",
    "$\\frac{dx}{dy} = \\frac{1}{dy/dx}$ or $g'(x) = \\frac{1}{f'(x)}$ where y = f(x).\n",
    "\n",
    "Rule 11: Derivative of an exponential function\n",
    "\n",
    "If $y = e^{x}$, then $dy/dx = e^{x}$. \n",
    "\n",
    "Rule 12: Derivative of a logarithmic function\n",
    "\n",
    "If $y = ln(x)$, then $dy/dx = 1/x$.\n",
    "\n",
    "#### 2.1.2 Partial Derivatives\n",
    "Functions with more than one variable have more than one derivative. A function of n variables, $y = f(x_1, x_2,…,n_n)$, has n partial derivatives $f_1, f_2,…f_n$. The partial derivatives can be arranged in a column or row vector called the gradient ($\\nabla_{x}$ denotes the gradient with respect to x). \n",
    "\n",
    "For scalar-valued functions the gradient and the Jacobian matrix are identical. For vector-valued functions, the Jacobian matrix is defined as:\n",
    "\n",
    "$J_{ij} = \\frac{\\partial f_i}{\\partial x_j}$ = $\\left[\\begin{array}{cc} \\frac{\\partial f_1}{\\partial x_1} & \\cdots & \\frac{\\partial f_1}{\\partial x_n} \\\\ \\cdots & \\cdots & \\cdots \\\\ \\frac{\\partial f_m}{\\partial x_1} & \\cdots & \\frac{\\partial f_m}{\\partial x_n}\n",
    "\\end{array}\\right]$.\n",
    "\n",
    "The entries of the Jacobian matrix are all points in which a vector-valued function is differentiable.\n",
    "\n",
    "#### 2.1.3 Gitfighters\n",
    "\n",
    "the gitfighters package adheres to the above mentioned mathematical rules and implements them all in code. \n",
    "\n",
    "### 2.2 Graph Structure\n",
    "The graph structure visualizes the elementary operations performed to evaluate a function at a point (x). The point x is the input value, and f is the output value. The nodes ($v_i$) illustrate the sequence of operations necessary to compute the output value. Each node is labeled accordingly (like times 5 or cos). The example below illustrates a graph:\n",
    "![](Evaluation_Graph.png)\n",
    "\n",
    "The example below illustrates the corresponding evaluation table:\n",
    "![](Evaluation_Table.png)\n",
    "\n",
    "### 2.3 Elementary Functions\n",
    "This package supports several elementary functions. The rules of differentiation list most elementary functions, such as quadratic, exponential, or logarithmic functions, but (inverse) trigonometric functions are also supported. \n",
    "\n",
    "## 3 Software Organization\n",
    "\n",
    "### 3.1 Directory Structure\n",
    "\n",
    "The outline below presents the directory structure and the main modules that our package contains:\n",
    "\n",
    "```\n",
    "cs107-FinalProject/\n",
    "    docs/  \n",
    "        milestone1.md\n",
    "        milestone2.md\n",
    "        ...\n",
    "    gitfighters/\n",
    "        git_fighters.py\n",
    "        test_suite.py\n",
    "        ...\n",
    "    tests/\n",
    "        test_git_fighters.py\n",
    "        test_elementary_operations.py\n",
    "        ...\n",
    "    .gitignore\n",
    "    .travis.yml\n",
    "    requirements.txt\n",
    "    README.md\n",
    "```\n",
    "\n",
    "### 3.2 Basic Modules Implementation and Their Functionality\n",
    "\n",
    "- **git_fighters.py:** This file contains the bulk of code for our custom automatic differentiation library. We base our operations on the ```fightingAD()``` class, in which most of the dunder methods are overwritten, to enable summation, multiplication etc... Additional elementary operations, e.g. trigonometrical or logarithmic operations, are defined out of the scope of the class and can be used on any class instance.\n",
    "\n",
    "### 3.3 Testsand coverage\n",
    "\n",
    "Gitfighters uses Pytest to ensure our code works correctly.\n",
    "- **test_suite.py:** In this file a suite of tests is defined and later run by pytest. \n",
    "\n",
    "Gitfighters also uses codecov and TravisCI to ensure our project functionality is maintained even through development:\n",
    "\n",
    "[![Build Status](https://travis-ci.com/Git-fighters/cs107-FinalProject.svg?token=yhUd8pF6uYSdGwe6uK9Y&branch=master)](https://travis-ci.com/Git-fighters/cs107-FinalProject)\n",
    "\n",
    "[![codecov](https://codecov.io/gh/Git-fighters/cs107-FinalProject/branch/master/graph/badge.svg?token=OHXBN0F2TM)](undefined)\n",
    "\n",
    "### 3.4 Package Distribution\n",
    "\n",
    "We will use Python Package Index (PyPI) to build, upload and distribute our package. Python Package Index is an official third-party ecosystem for distribution of Python packages in the **sdist** format (Pure-Python packages) or in the **wheels** format (packages with Compiled Artifacts).\n",
    "\n",
    "As of Milestone 2, however, our package is not yet available on Pypi. Instead a user can copy the existing repository and continue from there:\n",
    "\n",
    "```git clone https://github.com/Git-fighters/cs107-FinalProject.git```"
   ]
  },
  {
   "cell_type": "markdown",
   "metadata": {
    "cell_id": "00001-55a94621-9c45-4dc7-926f-e6cd941b547c",
    "deepnote_cell_type": "markdown"
   },
   "source": [
    "\n",
    "\n",
    "### 3.5 Software Packaging\n",
    "\n",
    "We will use **wheels**, a package format designed to ship libraries with compiled artifacts. The **wheels** package format is the most common tool for distributing reusable code, libraries between developers. Our implementation will not use a framework to distribute our software, since **frameworks** are primarily used for development and packaging of common python applications (web site backends, dynamic web frontends and mobile clients) targeting a non-developer audience.\n",
    "\n",
    "## 4 Implementation\n",
    "\n",
    "This implementation is mostly based on the ```fightingAD()``` class. This class stores the function value and derivative value, and then evaluates what to do after each elementary operation\n",
    "\n",
    "### 4.1. Classes and functions\n",
    "We implement one central class:\n",
    "\n",
    "1. **Class ```fightingAD()```** - This class acts as a placeholder for a variable. The main aim of this class is to compute the values and the derivatives, and to carry them over through each elementary operation. The argument passed to the class represents the point at which the function shall be evaluated. Instances of this class store following values:\n",
    "\t\n",
    "\t- value (val): value of the function evaluated at at the given point.\n",
    "\t- derivative (der): evaluated derivative at the given point.\n",
    "\n",
    "\tFurthermore, the ```fightingAD()``` class overrides following dunder methods:\n",
    "\n",
    "\t- \\_\\_str\\_\\_\t\n",
    "\t- \\_\\_repr\\_\\_\t\n",
    "\t- \\_\\_eq\\_\\_\t\n",
    "\t- \\_\\_ne\\_\\_\t\n",
    "\t- \\_\\_neg\\_\\_\t\n",
    "\t- \\_\\_pos\\_\\_\t\n",
    "\t- \\_\\_abs\\_\\_\t\n",
    "\t- \\_\\_mul\\_\\_\t\n",
    "\t- \\_\\_rmul\\_\\_\t\n",
    "\t- \\_\\_add\\_\\_\t\n",
    "\t- \\_\\_radd\\_\\_\t\n",
    "\t- \\_\\_sub\\_\\_\t\n",
    "\t- \\_\\_rsub\\_\\_\t\n",
    "\t- \\_\\_pow\\_\\_\t\n",
    "\t- \\_\\_rpow\\_\\_\t\n",
    "\t- \\_\\_trudiv\\_\\_\t\n",
    "\t- \\_\\_rtruediv\\_\\_\n",
    "\n",
    "\tIn our overridden functions we use self.val and self.der for evaluating the value and the derivative of the returned object. An example implementation:\n",
    "\t```\t\n",
    "\tdef __add__(self, other):\t\n",
    "\t\ttry:\t\n",
    "\t\t\treturn fightingAD(self.val + other.val, self.der + other.der)\t\n",
    "\t\texcept AttributeError:\t\n",
    "\t\t\ttry:\t\n",
    "\t\t\t\treturn fightingAD(self.val + other, self.der)\t\n",
    "\t\t\texcept:\t\n",
    "\t\t\t\traise TypeError(\t\n",
    "\t\t\t\t\t\"unsupported operand type(s) for +: {} and {}\".format(\t\n",
    "\t\t\t\t\t\ttype(self).__name__, type(other).__name__\t\n",
    "\t\t\t\t\t)\t\n",
    "\t\t\t\t)\t\n",
    "\t\telse:\t\n",
    "\t\t\traise Exception(\"unsupported operation for +\")\n",
    "\t```\n",
    "    \n",
    "2. **Elementary Functions** - Additionally, we define trigonometric, logarithmic and other types of functions separately, which can all be imported on their own. They all accept either ```fightingAD()``` instances, or vectors/scalars.\n",
    "    - sin\t\n",
    "\t- cos\n",
    "\t- tan\n",
    "\t- arcsin\n",
    "\t- arccos\n",
    "\t- arctan\n",
    "\t- log \n",
    "    \n",
    "### 4.2. Dependencies\n",
    "3. Gitfighters makes use of following external libraries and services:\n",
    "\n",
    "    1. Travis Ci for tests\n",
    "    2. Codecove for code coverage\n",
    "    3. NumPy for mathematical operations and array data structures\n",
    "\n",
    "## 5 Usage\n",
    "We plan on making installation as easy as possible for the user. The package will be hosted on PyPi and installable via ```pip install gitfighters```\n",
    "\n",
    "Alternatively, a user can git clone the repository, ```pip install requirements.txt```, and then be able to import the necessary files manually.\n",
    "\n",
    "Once the modules are loaded, the user will be able to use the code as follows:\n",
    "\n",
    "Evaluating a function like $f(x) = 200 + x^3$ at point x = (-2):\n"
   ]
  },
  {
   "cell_type": "code",
   "execution_count": 36,
   "metadata": {
    "cell_id": "00002-75d997bb-1ff5-4cc4-98a2-16d5bfc7d2b8",
    "deepnote_cell_type": "code"
   },
   "outputs": [],
   "source": [
    "from git_fighters import fightingAD\n",
    "\n",
    "# instantiate the trace variables\n",
    "a = fightingAD(-2)\n",
    "\n",
    "# perform elementary operations on them\n",
    "v1 = a**3\n",
    "v2 = 200 + v1\n",
    "# ...\n",
    "#  all elementary operations done"
   ]
  },
  {
   "cell_type": "markdown",
   "metadata": {
    "cell_id": "00003-a225db63-1ce0-4688-bc89-c00b98a19fab",
    "deepnote_cell_type": "markdown"
   },
   "source": [
    "User can then access the function value and derivative value by:"
   ]
  },
  {
   "cell_type": "code",
   "execution_count": 37,
   "metadata": {
    "cell_id": "00004-ac620ecc-e816-4f27-939e-d2ada896802d",
    "deepnote_cell_type": "code"
   },
   "outputs": [
    {
     "name": "stdout",
     "output_type": "stream",
     "text": [
      "192 12.0\n"
     ]
    }
   ],
   "source": [
    "# fightingAD.val or fightingAD.der\n",
    "print(v2.val, v2.der)"
   ]
  },
  {
   "cell_type": "markdown",
   "metadata": {
    "cell_id": "00005-e710265e-44d0-48ed-a89e-688a7d3bbb18",
    "deepnote_cell_type": "markdown"
   },
   "source": [
    "Alternatively, user can skip doing all the elementary operations manually and just define a function and let our library do all the work, as follows:"
   ]
  },
  {
   "cell_type": "code",
   "execution_count": 41,
   "metadata": {
    "cell_id": "00006-5ed02e69-45d6-4569-b108-653ef70aaee8",
    "deepnote_cell_type": "code"
   },
   "outputs": [
    {
     "name": "stdout",
     "output_type": "stream",
     "text": [
      "192 12.0\n"
     ]
    }
   ],
   "source": [
    "def func(x):  # example mathematical function\n",
    "    return 200 + x**3\n",
    "\n",
    "x = fightingAD(-2)  # instantiate ad variable at the point at which where we want func() evaluated\n",
    "\n",
    "y = func(x)\n",
    "\n",
    "# Now the user can access the function values and derivates automatically:\n",
    "print(y.val, y.der)"
   ]
  },
  {
   "cell_type": "markdown",
   "metadata": {
    "cell_id": "00007-e546589d-1aa5-44ea-aa9c-7d2ced7996d4",
    "deepnote_cell_type": "markdown"
   },
   "source": [
    "This will also be doable with vector inputs/outputs.\n",
    "\n",
    "The above example is somewhat trivial. Our library also enables more complex functionality. One appropriate example is Newton's method, where the roots of a function are found by procedurally following a functions derivative until 0 is reached.\n",
    "\n",
    "Here is a great visualization of the procedure:\n",
    "\n",
    "https://en.wikipedia.org/wiki/File:NewtonIteration_Ani.gif\n",
    "\n",
    "We can define this functionality in python as follows:"
   ]
  },
  {
   "cell_type": "code",
   "execution_count": 43,
   "metadata": {
    "cell_id": "00008-54db03fd-fb5c-4a0f-9a09-c9f42f8dfe9b",
    "deepnote_cell_type": "code"
   },
   "outputs": [],
   "source": [
    "def newton(f, x=1):\n",
    "    # finds the root of a function f with Newton's method\n",
    "    # using our fightingAD library\n",
    "    # inputs: function f, optional starting point x\n",
    "\n",
    "    x = fightingAD(x)\n",
    "    st_condition = 1\n",
    "\n",
    "    # Newton's method main loop\n",
    "    while st_condition > 1e-16:\n",
    "        y = f(x)\n",
    "        xval = x - y.val/y.der\n",
    "        x_old = np.copy(x.val)\n",
    "        x = fightingAD(xval.val)\n",
    "        st_condition = np.abs(x-x_old).val\n",
    "\n",
    "    return x.val"
   ]
  },
  {
   "cell_type": "markdown",
   "metadata": {
    "cell_id": "00009-7ad76b55-67da-4046-8d06-8a0207e474a5",
    "deepnote_cell_type": "markdown"
   },
   "source": [
    "Lets use this to find the root of a simple linear function, like f(x) = x + 1"
   ]
  },
  {
   "cell_type": "code",
   "execution_count": 45,
   "metadata": {
    "cell_id": "00010-f681f62a-3cd9-42ac-9fbe-997f43d92205",
    "deepnote_cell_type": "code"
   },
   "outputs": [
    {
     "name": "stdout",
     "output_type": "stream",
     "text": [
      "root of f is at x = -1.0\n"
     ]
    }
   ],
   "source": [
    "def f(x):\n",
    "    return x + 1\n",
    "\n",
    "root = newton(f)\n",
    "print(f'root of f is at x = {root}')"
   ]
  },
  {
   "cell_type": "markdown",
   "metadata": {
    "cell_id": "00011-644e2076-fa61-459f-af37-fb66ac4d3cfe",
    "deepnote_cell_type": "markdown"
   },
   "source": [
    "Cool! Just remember to ignore x.der in this case. However, this function was relatively simple, and this doesn't seem particularly useful. How about we apply it to a real world use case?\n",
    "\n",
    "#### 5.1 A real world use case\n",
    "Professor Sondak has a particular taste: he likes to drink starbucks coffee, but at specific temperature of 45°C (or 113°F). He also likes to have it ready for just when he starts class. However, often times it is still too hot and he gets his tongue burned, and other times he has let it sit too long and it has become too cold.\n",
    "\n",
    "If we assume a constant room temperature of 21°C, how many minutes before class should Professor Sondak order his coffee for that perfect temperature?\n",
    "\n",
    "**Answer**: This is a great problem to use automatic differentiation on! Let's do some calculations.\n",
    "\n",
    "We can model the temperature in the cup by following equation (modeling conduction loss and ignoring, for simplicity, the small amount of radiative and convection loss):\n",
    "\n",
    "$T_{\\text{coffee}}(t) = T_{room} + (T_{\\text{coffee at time 0}} - T_{room}) * e^{-t/\\tau}$ where $\\tau = \\frac{d*m*c_h}{k*A}$\n",
    "\n",
    "[Reference](http://web.mit.edu/21w.732-esg/www/handouts/729_simplified_model_of_heat_loss_in_a_coffee_cup.pdf)\n",
    "\n",
    "A definition of variables:\n",
    "\n",
    "- $c_h$ is the heat capacity of coffee (4.184 Joules)\n",
    "- $k$ is the thermal conductivity of the cup material (we assume cardboard, so ~0.05)\n",
    "- $d$ is the thickness of the cup (assume 0.5cm)\n",
    "- $A$ is the surface area of the cup (assuming r=3 and h=15, this gives an area of $2*pi*r^2 + 2pi*r*15= 0.0339m^2$)\n",
    "- $m$ is the mass of the coffee (assuming the previous dimensions and with density of water 1000kg/m3, then we get $pi*r^2*0.15*1000 = 0.42kg$) \n",
    "\n",
    "With all that specified, let's start using the gitfighters library to solve this problem!"
   ]
  },
  {
   "cell_type": "code",
   "execution_count": 46,
   "metadata": {
    "cell_id": "00012-e966ab16-eb30-4ddf-bc86-eed0cb794999",
    "deepnote_cell_type": "code"
   },
   "outputs": [],
   "source": [
    "from git_fighters import *\n",
    "import numpy as np\n",
    "\n",
    "# specify the temperature function given values derived above:\n",
    "def temperature_coffee(t, t_initial=100, t_room=21, c_h=4.184, m=0.42, k=0.05, d=0.005, A=0.0339,):\n",
    "    tau = (d*m*c_h) / (k*A)\n",
    "    t_coffee = t_room + (t_initial - t_room)*np.e**((-t)/(tau))\n",
    "    return t_coffee\n",
    "\n",
    "def celsius_to_fahrenheit(t):\n",
    "    return (t*(9/5)) + 32\n",
    "\n",
    "def fahrenheit_to_celsius(t):\n",
    "    return (t - 32)*(5/9)"
   ]
  },
  {
   "cell_type": "code",
   "execution_count": 47,
   "metadata": {
    "cell_id": "00013-e9e260c7-7247-471d-a4ab-c09210eb4a5c",
    "deepnote_cell_type": "code"
   },
   "outputs": [
    {
     "name": "stdout",
     "output_type": "stream",
     "text": [
      "At t=1 mins, the temperature has dropped to 86.14°C and the temperature gradient is -12.57°C/min\n"
     ]
    }
   ],
   "source": [
    "# Lets find out the temperature gradient:\n",
    "\n",
    "# 1. We create an automatic differentiation instance at t=0\n",
    "t = 1\n",
    "ad =  fightingAD(t)\n",
    "\n",
    "# 2. We apply our previously defined function to our AD instance:\n",
    "temp = temperature_coffee(ad) \n",
    "\n",
    "# 3. Now we can check the derivative:\n",
    "print(f'At t={t} mins, the temperature has dropped to {\"{:.2f}\".format(temp.val)}°C and \\\n",
    "the temperature gradient is {\"{:.2f}\".format(temp.der)}°C/min')"
   ]
  },
  {
   "cell_type": "markdown",
   "metadata": {
    "cell_id": "00014-7ed03d97-5a7b-4a40-a0d0-78a3f5330c80",
    "deepnote_cell_type": "markdown"
   },
   "source": [
    "With this functionality in place, we can now make use of newtons method (which requires derivatives provided by our library) to efficiently find the root of this problem:"
   ]
  },
  {
   "cell_type": "code",
   "execution_count": 48,
   "metadata": {
    "cell_id": "00015-57ad807c-49b4-4eba-848b-fcebed6eed4a",
    "deepnote_cell_type": "code"
   },
   "outputs": [],
   "source": [
    "def newton(f, x=1):\n",
    "    # finds the root of a function f with Newton's method\n",
    "    # using our fightingAD library\n",
    "    # inputs: function f, optional starting point x\n",
    "\n",
    "    x = fightingAD(x)\n",
    "    st_condition = 1\n",
    "\n",
    "    # Newton's method main loop\n",
    "    while st_condition > 1e-16:\n",
    "        y = f(x)\n",
    "        xval = x - y.val/y.der\n",
    "        x_old = np.copy(x.val)\n",
    "        x = fightingAD(xval.val)\n",
    "        st_condition = np.abs(x-x_old).val\n",
    "\n",
    "    return x.val\n",
    "\n",
    "# professor sondak likes his coffee at 45 degrees C\n",
    "def perfect_temp(t):    \n",
    "    return temperature_coffee(t) - 45"
   ]
  },
  {
   "cell_type": "code",
   "execution_count": 49,
   "metadata": {
    "cell_id": "00016-ecc164be-85eb-4b13-b039-5bb4fb692a71",
    "deepnote_cell_type": "code"
   },
   "outputs": [
    {
     "name": "stdout",
     "output_type": "stream",
     "text": [
      "root is at 6.1758492247475205\n"
     ]
    }
   ],
   "source": [
    "# and now we find the root:\n",
    "f = perfect_temp\n",
    "root = newton(f)\n",
    "print(f'root is at {root}')"
   ]
  },
  {
   "cell_type": "markdown",
   "metadata": {
    "cell_id": "00017-ac9ad068-86e4-4f9a-b3a7-c14fabcdd6da",
    "deepnote_cell_type": "markdown"
   },
   "source": [
    "And there we have it! Professor Sondak should drink his coffee after exactly 6.1758492247475205 minutes. We have determined the point at which his coffee is at the ideal temperature to machine precision! (nevermind that our physical assumptions are much less precise ^^)\n",
    "\n",
    "Here is a small visualization:"
   ]
  },
  {
   "cell_type": "code",
   "execution_count": 50,
   "metadata": {
    "cell_id": "00018-6f8b552f-0d7f-4b2a-a578-4f8b8c89ebe6",
    "deepnote_cell_type": "code"
   },
   "outputs": [
    {
     "data": {
      "image/png": "[encoded data removed]",
      "text/plain": [
       "<Figure size 432x288 with 1 Axes>"
      ]
     },
     "metadata": {
      "needs_background": "light"
     },
     "output_type": "display_data"
    }
   ],
   "source": [
    "import matplotlib.pyplot as plt\n",
    "\n",
    "# plot temperature curve\n",
    "xs = np.linspace(0,20,100)\n",
    "ys = temperature_coffee(xs)\n",
    "plt.plot(xs, ys)\n",
    "\n",
    "# plot horizontal line\n",
    "# xs = np.linspace(0,20,100)\n",
    "# ys = np.full(100, 45)\n",
    "# plt.plot(xs, ys, 'r')\n",
    "\n",
    "# plot the perfect point using newtons method\n",
    "plt.plot(newton(f), temperature_coffee(newton(f)), 'g*')\n",
    "\n",
    "plt.xlabel('time in min')\n",
    "plt.ylabel('temperature')\n",
    "plt.legend(['temperature of coffee', 'Sondaks perfect temperature'])\n",
    "plt.show()"
   ]
  },
  {
   "cell_type": "markdown",
   "metadata": {
    "cell_id": "00019-171ef25b-d76a-43ff-b31e-8556e9fb4818",
    "deepnote_cell_type": "markdown"
   },
   "source": [
    "As we have seen, the ```fightingAD()``` library enables precise evaluation of coffee temperature, as well as solving complex optimization problems."
   ]
  },
  {
   "cell_type": "markdown",
   "metadata": {},
   "source": [
    "## 6.Proposal for Extension\n",
    "\n",
    "### General Idea\n",
    "\n",
    "Using our developed Automatic Differentiation library we are proposing to build a LaTeX friendly scientific package for math lovers. Our tools will allow the user to input strings and latex equations and will be able to successfully render Latex equations. In other words, we want to build a LaTeX enhanced Wolfram Alpha that can be accessed from python script.  \n",
    "\n",
    "### Features and Functionalities\n",
    "\n",
    "- Has an option for command line interface \n",
    "- Accepts inputs as strings and Latex equations and parses them correctly. Please note that the strings can be something like *“x^2 + y:2 when x equals to 1 and y equals to 2”*\n",
    "- Allows for symbolic differentiations\n",
    "- Renders partial derivatives, Jacobians and Hessians\n",
    "- Plots the functions and the derivatives\n",
    "- Outputs a Latex file \n"
   ]
  },
  {
   "cell_type": "markdown",
   "metadata": {},
   "source": [
    "### Example Use Case"
   ]
  },
  {
   "cell_type": "raw",
   "metadata": {},
   "source": [
    "\n",
    "f = fightingAD(“x^2 + y:2 when x equals to 1 and y equals to 2”) \n",
    "## parses through the string\n",
    "\n",
    "f\n",
    ">>> x**2 + 0.5*y \n",
    "\n",
    "f.latex\n",
    "## renders the latex equation and initiates a tex file where the equation resides\n"
   ]
  },
  {
   "cell_type": "markdown",
   "metadata": {},
   "source": [
    "$$f(x,y) = x^2 + 0.5y$$"
   ]
  },
  {
   "cell_type": "raw",
   "metadata": {},
   "source": [
    "f.vars\n",
    ">>> ['x', 'y']\n",
    "## outputs all the variables\n",
    "\n",
    "f.derivative['x']\n",
    ">>> 2*x\n",
    "## partial derivative at x\n",
    "\n",
    "f.derivative['y']\n",
    ">>> 0.5 \n",
    "## partial derivative at y\n",
    "\n",
    "f.derivative['x'].latex\n",
    "## renders the Latex equation and saves it to the tex file\n"
   ]
  },
  {
   "cell_type": "markdown",
   "metadata": {},
   "source": [
    "$$\\frac{\\partial f}{\\partial x} = 2x $$"
   ]
  },
  {
   "cell_type": "raw",
   "metadata": {},
   "source": [
    "f.evaluate()  \n",
    ">>> 2\n",
    "## the x = 1 and y=2 as specified in the prompt when nothing is specified\n",
    "\n",
    "f.evaluate(2, 2)\n",
    ">>> 5\n",
    "## user can also specify nw evaluation points\n",
    "   \n",
    "f.derivative['x'].evaluate(4)\n",
    ">>> 8\n",
    "## evaluates the partial derivative\n",
    "\n",
    "f.plot()\n",
    "## plot the original function\n",
    "\n",
    "f.plot_slope['x']\n",
    "## plot the slope with respect to x\n",
    "\n",
    "f.plot_slope['y']\n",
    "## plot the slope with respect to y\n",
    "```"
   ]
  }
 ],
 "metadata": {
  "deepnote_execution_queue": [],
  "deepnote_notebook_id": "268deafe-7050-4149-b176-3d0e9dbe2249",
  "kernelspec": {
   "display_name": "Python 3",
   "language": "python",
   "name": "python3"
  },
  "language_info": {
   "codemirror_mode": {
    "name": "ipython",
    "version": 3
   },
   "file_extension": ".py",
   "mimetype": "text/x-python",
   "name": "python",
   "nbconvert_exporter": "python",
   "pygments_lexer": "ipython3",
   "version": "3.7.9"
  }
 },
 "nbformat": 4,
 "nbformat_minor": 4
}
